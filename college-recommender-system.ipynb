{
 "cells": [
  {
   "cell_type": "code",
   "execution_count": 1,
   "id": "57986fd6",
   "metadata": {
    "_cell_guid": "b1076dfc-b9ad-4769-8c92-a6c4dae69d19",
    "_uuid": "8f2839f25d086af736a60e9eeb907d3b93b6e0e5",
    "execution": {
     "iopub.execute_input": "2023-07-11T10:12:55.218577Z",
     "iopub.status.busy": "2023-07-11T10:12:55.218190Z",
     "iopub.status.idle": "2023-07-11T10:12:56.672668Z",
     "shell.execute_reply": "2023-07-11T10:12:56.671596Z"
    },
    "papermill": {
     "duration": 1.468304,
     "end_time": "2023-07-11T10:12:56.675052",
     "exception": false,
     "start_time": "2023-07-11T10:12:55.206748",
     "status": "completed"
    },
    "tags": []
   },
   "outputs": [
    {
     "name": "stdout",
     "output_type": "stream",
     "text": [
      "/kaggle/input/jee-advanced-2022-opening-closing-ranks/IIT_data.csv\n"
     ]
    }
   ],
   "source": [
    "# Here's several helpful packages to load\n",
    "\n",
    "import numpy as np\n",
    "import pandas as pd \n",
    "import math\n",
    "from sklearn import preprocessing\n",
    "\n",
    "# Input data files are available in the read-only \"../input/\" directory\n",
    "# For example, running this (by clicking run or pressing Shift+Enter) will list all files under the input directory\n",
    "\n",
    "import os\n",
    "for dirname, _, filenames in os.walk('/kaggle/input'):\n",
    "    for filename in filenames:\n",
    "        print(os.path.join(dirname, filename))\n",
    "\n",
    "# You can write up to 20GB to the current directory (/kaggle/working/) that gets preserved as output when you create a version using \"Save & Run All\" \n",
    "# You can also write temporary files to /kaggle/temp/, but they won't be saved outside of the current session"
   ]
  },
  {
   "cell_type": "code",
   "execution_count": 2,
   "id": "f27a8169",
   "metadata": {
    "execution": {
     "iopub.execute_input": "2023-07-11T10:12:56.695038Z",
     "iopub.status.busy": "2023-07-11T10:12:56.694609Z",
     "iopub.status.idle": "2023-07-11T10:12:56.735887Z",
     "shell.execute_reply": "2023-07-11T10:12:56.735026Z"
    },
    "papermill": {
     "duration": 0.053729,
     "end_time": "2023-07-11T10:12:56.738069",
     "exception": false,
     "start_time": "2023-07-11T10:12:56.684340",
     "status": "completed"
    },
    "tags": []
   },
   "outputs": [
    {
     "data": {
      "text/plain": [
       "(2803, 10)"
      ]
     },
     "execution_count": 2,
     "metadata": {},
     "output_type": "execute_result"
    }
   ],
   "source": [
    "df=pd.read_csv('/kaggle/input/jee-advanced-2022-opening-closing-ranks/IIT_data.csv')\n",
    "df.shape"
   ]
  },
  {
   "cell_type": "code",
   "execution_count": 3,
   "id": "e3d53d23",
   "metadata": {
    "execution": {
     "iopub.execute_input": "2023-07-11T10:12:56.758793Z",
     "iopub.status.busy": "2023-07-11T10:12:56.757811Z",
     "iopub.status.idle": "2023-07-11T10:12:56.795003Z",
     "shell.execute_reply": "2023-07-11T10:12:56.793996Z"
    },
    "papermill": {
     "duration": 0.050609,
     "end_time": "2023-07-11T10:12:56.798054",
     "exception": false,
     "start_time": "2023-07-11T10:12:56.747445",
     "status": "completed"
    },
    "tags": []
   },
   "outputs": [],
   "source": [
    "df.drop_duplicates(inplace=True)\n",
    "df = df.dropna()\n",
    "df = df.drop(['Year'], axis=1)"
   ]
  },
  {
   "cell_type": "code",
   "execution_count": 4,
   "id": "0782384c",
   "metadata": {
    "execution": {
     "iopub.execute_input": "2023-07-11T10:12:56.820675Z",
     "iopub.status.busy": "2023-07-11T10:12:56.819866Z",
     "iopub.status.idle": "2023-07-11T10:12:56.827419Z",
     "shell.execute_reply": "2023-07-11T10:12:56.825919Z"
    },
    "papermill": {
     "duration": 0.020489,
     "end_time": "2023-07-11T10:12:56.829771",
     "exception": false,
     "start_time": "2023-07-11T10:12:56.809282",
     "status": "completed"
    },
    "tags": []
   },
   "outputs": [
    {
     "data": {
      "text/plain": [
       "(2799, 9)"
      ]
     },
     "execution_count": 4,
     "metadata": {},
     "output_type": "execute_result"
    }
   ],
   "source": [
    "df.shape"
   ]
  },
  {
   "cell_type": "code",
   "execution_count": 5,
   "id": "066e3e8f",
   "metadata": {
    "execution": {
     "iopub.execute_input": "2023-07-11T10:12:56.850319Z",
     "iopub.status.busy": "2023-07-11T10:12:56.849890Z",
     "iopub.status.idle": "2023-07-11T10:12:56.858631Z",
     "shell.execute_reply": "2023-07-11T10:12:56.857340Z"
    },
    "papermill": {
     "duration": 0.021671,
     "end_time": "2023-07-11T10:12:56.860895",
     "exception": false,
     "start_time": "2023-07-11T10:12:56.839224",
     "status": "completed"
    },
    "tags": []
   },
   "outputs": [],
   "source": [
    "df = df.drop(['Sr.'], axis=1)\n",
    "df.insert(0, 'Sr.', np.arange(df.shape[0]))\n",
    "df['Sr.'] = df['Sr.'].astype(int)"
   ]
  },
  {
   "cell_type": "code",
   "execution_count": 6,
   "id": "5673316d",
   "metadata": {
    "execution": {
     "iopub.execute_input": "2023-07-11T10:12:56.880940Z",
     "iopub.status.busy": "2023-07-11T10:12:56.880553Z",
     "iopub.status.idle": "2023-07-11T10:12:56.911295Z",
     "shell.execute_reply": "2023-07-11T10:12:56.910050Z"
    },
    "papermill": {
     "duration": 0.043825,
     "end_time": "2023-07-11T10:12:56.914030",
     "exception": false,
     "start_time": "2023-07-11T10:12:56.870205",
     "status": "completed"
    },
    "tags": []
   },
   "outputs": [
    {
     "data": {
      "text/html": [
       "<div>\n",
       "<style scoped>\n",
       "    .dataframe tbody tr th:only-of-type {\n",
       "        vertical-align: middle;\n",
       "    }\n",
       "\n",
       "    .dataframe tbody tr th {\n",
       "        vertical-align: top;\n",
       "    }\n",
       "\n",
       "    .dataframe thead th {\n",
       "        text-align: right;\n",
       "    }\n",
       "</style>\n",
       "<table border=\"1\" class=\"dataframe\">\n",
       "  <thead>\n",
       "    <tr style=\"text-align: right;\">\n",
       "      <th></th>\n",
       "      <th>Sr.</th>\n",
       "      <th>Institute</th>\n",
       "      <th>Program</th>\n",
       "      <th>Duration</th>\n",
       "      <th>Degree</th>\n",
       "      <th>Category</th>\n",
       "      <th>Pool</th>\n",
       "      <th>Opening</th>\n",
       "      <th>Closing</th>\n",
       "    </tr>\n",
       "  </thead>\n",
       "  <tbody>\n",
       "    <tr>\n",
       "      <th>0</th>\n",
       "      <td>0</td>\n",
       "      <td>IIT-Bhubaneswar</td>\n",
       "      <td>Civil Engineering</td>\n",
       "      <td>4 Years</td>\n",
       "      <td>B.Tech</td>\n",
       "      <td>GEN</td>\n",
       "      <td>Gender-Neutral</td>\n",
       "      <td>9193</td>\n",
       "      <td>13624</td>\n",
       "    </tr>\n",
       "    <tr>\n",
       "      <th>1</th>\n",
       "      <td>1</td>\n",
       "      <td>IIT-Bhubaneswar</td>\n",
       "      <td>Civil Engineering</td>\n",
       "      <td>4 Years</td>\n",
       "      <td>B.Tech</td>\n",
       "      <td>GEN</td>\n",
       "      <td>Female-Only</td>\n",
       "      <td>16138</td>\n",
       "      <td>21674</td>\n",
       "    </tr>\n",
       "    <tr>\n",
       "      <th>2</th>\n",
       "      <td>2</td>\n",
       "      <td>IIT-Bhubaneswar</td>\n",
       "      <td>Civil Engineering</td>\n",
       "      <td>4 Years</td>\n",
       "      <td>B.Tech</td>\n",
       "      <td>GEN-EWS</td>\n",
       "      <td>Gender-Neutral</td>\n",
       "      <td>1907</td>\n",
       "      <td>2171</td>\n",
       "    </tr>\n",
       "    <tr>\n",
       "      <th>3</th>\n",
       "      <td>3</td>\n",
       "      <td>IIT-Bhubaneswar</td>\n",
       "      <td>Civil Engineering</td>\n",
       "      <td>4 Years</td>\n",
       "      <td>B.Tech</td>\n",
       "      <td>GEN-EWS</td>\n",
       "      <td>Female-Only</td>\n",
       "      <td>3334</td>\n",
       "      <td>3334</td>\n",
       "    </tr>\n",
       "    <tr>\n",
       "      <th>4</th>\n",
       "      <td>4</td>\n",
       "      <td>IIT-Bhubaneswar</td>\n",
       "      <td>Civil Engineering</td>\n",
       "      <td>4 Years</td>\n",
       "      <td>B.Tech</td>\n",
       "      <td>OBC-NCL</td>\n",
       "      <td>Gender-Neutral</td>\n",
       "      <td>4094</td>\n",
       "      <td>4615</td>\n",
       "    </tr>\n",
       "    <tr>\n",
       "      <th>...</th>\n",
       "      <td>...</td>\n",
       "      <td>...</td>\n",
       "      <td>...</td>\n",
       "      <td>...</td>\n",
       "      <td>...</td>\n",
       "      <td>...</td>\n",
       "      <td>...</td>\n",
       "      <td>...</td>\n",
       "      <td>...</td>\n",
       "    </tr>\n",
       "    <tr>\n",
       "      <th>2798</th>\n",
       "      <td>2794</td>\n",
       "      <td>IIT-Dharwad</td>\n",
       "      <td>Mechanical Engineering</td>\n",
       "      <td>4 Years</td>\n",
       "      <td>B.Tech</td>\n",
       "      <td>OBC-NCL</td>\n",
       "      <td>Female-Only</td>\n",
       "      <td>7459</td>\n",
       "      <td>8884</td>\n",
       "    </tr>\n",
       "    <tr>\n",
       "      <th>2799</th>\n",
       "      <td>2795</td>\n",
       "      <td>IIT-Dharwad</td>\n",
       "      <td>Mechanical Engineering</td>\n",
       "      <td>4 Years</td>\n",
       "      <td>B.Tech</td>\n",
       "      <td>SC</td>\n",
       "      <td>Gender-Neutral</td>\n",
       "      <td>1709</td>\n",
       "      <td>2379</td>\n",
       "    </tr>\n",
       "    <tr>\n",
       "      <th>2800</th>\n",
       "      <td>2796</td>\n",
       "      <td>IIT-Dharwad</td>\n",
       "      <td>Computer Science and Engineering</td>\n",
       "      <td>4 Years</td>\n",
       "      <td>B.Tech</td>\n",
       "      <td>GEN-EWS</td>\n",
       "      <td>Female-Only</td>\n",
       "      <td>1217</td>\n",
       "      <td>1217</td>\n",
       "    </tr>\n",
       "    <tr>\n",
       "      <th>2801</th>\n",
       "      <td>2797</td>\n",
       "      <td>IIT-Dharwad</td>\n",
       "      <td>Computer Science and Engineering</td>\n",
       "      <td>4 Years</td>\n",
       "      <td>B.Tech</td>\n",
       "      <td>OBC-NCL</td>\n",
       "      <td>Gender-Neutral</td>\n",
       "      <td>1378</td>\n",
       "      <td>1848</td>\n",
       "    </tr>\n",
       "    <tr>\n",
       "      <th>2802</th>\n",
       "      <td>2798</td>\n",
       "      <td>IIT-Dharwad</td>\n",
       "      <td>Computer Science and Engineering</td>\n",
       "      <td>4 Years</td>\n",
       "      <td>B.Tech</td>\n",
       "      <td>OBC-NCL</td>\n",
       "      <td>Female-Only</td>\n",
       "      <td>3064</td>\n",
       "      <td>1389</td>\n",
       "    </tr>\n",
       "  </tbody>\n",
       "</table>\n",
       "<p>2799 rows × 9 columns</p>\n",
       "</div>"
      ],
      "text/plain": [
       "       Sr.        Institute                           Program Duration  \\\n",
       "0        0  IIT-Bhubaneswar                 Civil Engineering  4 Years   \n",
       "1        1  IIT-Bhubaneswar                 Civil Engineering  4 Years   \n",
       "2        2  IIT-Bhubaneswar                 Civil Engineering  4 Years   \n",
       "3        3  IIT-Bhubaneswar                 Civil Engineering  4 Years   \n",
       "4        4  IIT-Bhubaneswar                 Civil Engineering  4 Years   \n",
       "...    ...              ...                               ...      ...   \n",
       "2798  2794      IIT-Dharwad            Mechanical Engineering  4 Years   \n",
       "2799  2795      IIT-Dharwad            Mechanical Engineering  4 Years   \n",
       "2800  2796      IIT-Dharwad  Computer Science and Engineering  4 Years   \n",
       "2801  2797      IIT-Dharwad  Computer Science and Engineering  4 Years   \n",
       "2802  2798      IIT-Dharwad  Computer Science and Engineering  4 Years   \n",
       "\n",
       "      Degree Category            Pool Opening Closing  \n",
       "0     B.Tech      GEN  Gender-Neutral    9193   13624  \n",
       "1     B.Tech      GEN     Female-Only   16138   21674  \n",
       "2     B.Tech  GEN-EWS  Gender-Neutral    1907    2171  \n",
       "3     B.Tech  GEN-EWS     Female-Only    3334    3334  \n",
       "4     B.Tech  OBC-NCL  Gender-Neutral    4094    4615  \n",
       "...      ...      ...             ...     ...     ...  \n",
       "2798  B.Tech  OBC-NCL     Female-Only    7459    8884  \n",
       "2799  B.Tech       SC  Gender-Neutral    1709    2379  \n",
       "2800  B.Tech  GEN-EWS     Female-Only    1217    1217  \n",
       "2801  B.Tech  OBC-NCL  Gender-Neutral    1378    1848  \n",
       "2802  B.Tech  OBC-NCL     Female-Only    3064    1389  \n",
       "\n",
       "[2799 rows x 9 columns]"
      ]
     },
     "execution_count": 6,
     "metadata": {},
     "output_type": "execute_result"
    }
   ],
   "source": [
    "df"
   ]
  },
  {
   "cell_type": "code",
   "execution_count": 7,
   "id": "fa7a9632",
   "metadata": {
    "execution": {
     "iopub.execute_input": "2023-07-11T10:12:56.936264Z",
     "iopub.status.busy": "2023-07-11T10:12:56.935852Z",
     "iopub.status.idle": "2023-07-11T10:12:57.739372Z",
     "shell.execute_reply": "2023-07-11T10:12:57.737725Z"
    },
    "papermill": {
     "duration": 0.822089,
     "end_time": "2023-07-11T10:12:57.746635",
     "exception": false,
     "start_time": "2023-07-11T10:12:56.924546",
     "status": "completed"
    },
    "tags": []
   },
   "outputs": [],
   "source": [
    "for i in range(2799):\n",
    "    for j in range(2):\n",
    "        x = df.iloc[i,7+j]\n",
    "        if(x[-1]=='P'):\n",
    "            df.iloc[i,7+j]=int(x[:-4])\n",
    "        else:\n",
    "            df.iloc[i,7+j]=int(x)"
   ]
  },
  {
   "cell_type": "code",
   "execution_count": 8,
   "id": "d74ae3fd",
   "metadata": {
    "execution": {
     "iopub.execute_input": "2023-07-11T10:12:57.771805Z",
     "iopub.status.busy": "2023-07-11T10:12:57.771297Z",
     "iopub.status.idle": "2023-07-11T10:12:57.794194Z",
     "shell.execute_reply": "2023-07-11T10:12:57.792991Z"
    },
    "papermill": {
     "duration": 0.038571,
     "end_time": "2023-07-11T10:12:57.796669",
     "exception": false,
     "start_time": "2023-07-11T10:12:57.758098",
     "status": "completed"
    },
    "tags": []
   },
   "outputs": [
    {
     "data": {
      "text/plain": [
       "{'GEN': 0,\n",
       " 'GEN-EWS': 1,\n",
       " 'GEN-EWS-PWD': 2,\n",
       " 'GEN-PWD': 3,\n",
       " 'OBC-NCL': 4,\n",
       " 'OBC-NCL-PWD': 5,\n",
       " 'SC': 6,\n",
       " 'SC-PWD': 7,\n",
       " 'ST': 8,\n",
       " 'ST-PWD': 9}"
      ]
     },
     "execution_count": 8,
     "metadata": {},
     "output_type": "execute_result"
    }
   ],
   "source": [
    "model_df = df.drop(['Institute','Duration','Degree'], axis=1)\n",
    "label_encoder = preprocessing.LabelEncoder()\n",
    "\n",
    "model_df['Program']= label_encoder.fit_transform(model_df['Program'])\n",
    "d3 = dict(zip(label_encoder.classes_, label_encoder.transform(label_encoder.classes_)))\n",
    "model_df['Category']= label_encoder.fit_transform(model_df['Category'])\n",
    "d1 = dict(zip(label_encoder.classes_, label_encoder.transform(label_encoder.classes_)))\n",
    "\n",
    "model_df['Pool']= label_encoder.fit_transform(model_df['Pool'])\n",
    "\n",
    "d2 = dict(zip(label_encoder.classes_, label_encoder.transform(label_encoder.classes_)))\n",
    "\n",
    "d1"
   ]
  },
  {
   "cell_type": "code",
   "execution_count": 9,
   "id": "6941e06e",
   "metadata": {
    "execution": {
     "iopub.execute_input": "2023-07-11T10:12:57.818958Z",
     "iopub.status.busy": "2023-07-11T10:12:57.817904Z",
     "iopub.status.idle": "2023-07-11T10:12:57.825455Z",
     "shell.execute_reply": "2023-07-11T10:12:57.824332Z"
    },
    "papermill": {
     "duration": 0.021149,
     "end_time": "2023-07-11T10:12:57.827891",
     "exception": false,
     "start_time": "2023-07-11T10:12:57.806742",
     "status": "completed"
    },
    "tags": []
   },
   "outputs": [
    {
     "data": {
      "text/plain": [
       "{'Female-Only': 0, 'Gender-Neutral': 1}"
      ]
     },
     "execution_count": 9,
     "metadata": {},
     "output_type": "execute_result"
    }
   ],
   "source": [
    "d2"
   ]
  },
  {
   "cell_type": "code",
   "execution_count": 10,
   "id": "fc74469c",
   "metadata": {
    "execution": {
     "iopub.execute_input": "2023-07-11T10:12:57.850102Z",
     "iopub.status.busy": "2023-07-11T10:12:57.849651Z",
     "iopub.status.idle": "2023-07-11T10:12:57.865929Z",
     "shell.execute_reply": "2023-07-11T10:12:57.865174Z"
    },
    "papermill": {
     "duration": 0.030071,
     "end_time": "2023-07-11T10:12:57.868198",
     "exception": false,
     "start_time": "2023-07-11T10:12:57.838127",
     "status": "completed"
    },
    "tags": []
   },
   "outputs": [
    {
     "data": {
      "text/html": [
       "<div>\n",
       "<style scoped>\n",
       "    .dataframe tbody tr th:only-of-type {\n",
       "        vertical-align: middle;\n",
       "    }\n",
       "\n",
       "    .dataframe tbody tr th {\n",
       "        vertical-align: top;\n",
       "    }\n",
       "\n",
       "    .dataframe thead th {\n",
       "        text-align: right;\n",
       "    }\n",
       "</style>\n",
       "<table border=\"1\" class=\"dataframe\">\n",
       "  <thead>\n",
       "    <tr style=\"text-align: right;\">\n",
       "      <th></th>\n",
       "      <th>Sr.</th>\n",
       "      <th>Program</th>\n",
       "    </tr>\n",
       "  </thead>\n",
       "  <tbody>\n",
       "    <tr>\n",
       "      <th>0</th>\n",
       "      <td>0</td>\n",
       "      <td>26</td>\n",
       "    </tr>\n",
       "    <tr>\n",
       "      <th>1</th>\n",
       "      <td>1</td>\n",
       "      <td>26</td>\n",
       "    </tr>\n",
       "    <tr>\n",
       "      <th>2</th>\n",
       "      <td>2</td>\n",
       "      <td>26</td>\n",
       "    </tr>\n",
       "    <tr>\n",
       "      <th>3</th>\n",
       "      <td>3</td>\n",
       "      <td>26</td>\n",
       "    </tr>\n",
       "    <tr>\n",
       "      <th>4</th>\n",
       "      <td>4</td>\n",
       "      <td>26</td>\n",
       "    </tr>\n",
       "    <tr>\n",
       "      <th>...</th>\n",
       "      <td>...</td>\n",
       "      <td>...</td>\n",
       "    </tr>\n",
       "    <tr>\n",
       "      <th>2798</th>\n",
       "      <td>2794</td>\n",
       "      <td>71</td>\n",
       "    </tr>\n",
       "    <tr>\n",
       "      <th>2799</th>\n",
       "      <td>2795</td>\n",
       "      <td>71</td>\n",
       "    </tr>\n",
       "    <tr>\n",
       "      <th>2800</th>\n",
       "      <td>2796</td>\n",
       "      <td>33</td>\n",
       "    </tr>\n",
       "    <tr>\n",
       "      <th>2801</th>\n",
       "      <td>2797</td>\n",
       "      <td>33</td>\n",
       "    </tr>\n",
       "    <tr>\n",
       "      <th>2802</th>\n",
       "      <td>2798</td>\n",
       "      <td>33</td>\n",
       "    </tr>\n",
       "  </tbody>\n",
       "</table>\n",
       "<p>2799 rows × 2 columns</p>\n",
       "</div>"
      ],
      "text/plain": [
       "       Sr.  Program\n",
       "0        0       26\n",
       "1        1       26\n",
       "2        2       26\n",
       "3        3       26\n",
       "4        4       26\n",
       "...    ...      ...\n",
       "2798  2794       71\n",
       "2799  2795       71\n",
       "2800  2796       33\n",
       "2801  2797       33\n",
       "2802  2798       33\n",
       "\n",
       "[2799 rows x 2 columns]"
      ]
     },
     "execution_count": 10,
     "metadata": {},
     "output_type": "execute_result"
    }
   ],
   "source": [
    "X = model_df.drop(['Sr.','Program'], axis=1)\n",
    "y = model_df[['Sr.','Program']]\n",
    "y"
   ]
  },
  {
   "cell_type": "markdown",
   "id": "4c4bb78b",
   "metadata": {
    "papermill": {
     "duration": 0.010276,
     "end_time": "2023-07-11T10:12:57.888860",
     "exception": false,
     "start_time": "2023-07-11T10:12:57.878584",
     "status": "completed"
    },
    "tags": []
   },
   "source": [
    "**DEFINING MY OWN SCORER**"
   ]
  },
  {
   "cell_type": "code",
   "execution_count": 11,
   "id": "064ab0f0",
   "metadata": {
    "execution": {
     "iopub.execute_input": "2023-07-11T10:12:57.911048Z",
     "iopub.status.busy": "2023-07-11T10:12:57.910632Z",
     "iopub.status.idle": "2023-07-11T10:12:58.021410Z",
     "shell.execute_reply": "2023-07-11T10:12:58.020334Z"
    },
    "papermill": {
     "duration": 0.125121,
     "end_time": "2023-07-11T10:12:58.024251",
     "exception": false,
     "start_time": "2023-07-11T10:12:57.899130",
     "status": "completed"
    },
    "tags": []
   },
   "outputs": [],
   "source": [
    "def my_scorer_func(test_y, y_pred):\n",
    "    y_predn=[]\n",
    "    for i in range(test_y.shape[0]):\n",
    "        y_predn.append(df.iloc[int(y_pred[i][0])][9])\n",
    "    y_predn = np.array(y_predn, dtype='float32')\n",
    "    test_y = test_y.to_numpy()\n",
    "    y_testn=[]\n",
    "    for i in range(test_y.shape[0]):\n",
    "        y_testn.append(df.iloc[int(test_y[i][0])][9])\n",
    "    y_testn = pd.Series(y_testn) \n",
    "    y_testn\n",
    "    from sklearn.metrics import r2_score\n",
    "    res = r2_score(y_testn, y_predn)\n",
    "    return res\n",
    "from sklearn.metrics import make_scorer\n",
    "my_scorer = make_scorer(my_scorer_func, greater_is_better=True)"
   ]
  },
  {
   "cell_type": "code",
   "execution_count": 12,
   "id": "95ebbd33",
   "metadata": {
    "execution": {
     "iopub.execute_input": "2023-07-11T10:12:58.047834Z",
     "iopub.status.busy": "2023-07-11T10:12:58.046987Z",
     "iopub.status.idle": "2023-07-11T10:12:58.071359Z",
     "shell.execute_reply": "2023-07-11T10:12:58.070247Z"
    },
    "papermill": {
     "duration": 0.039321,
     "end_time": "2023-07-11T10:12:58.074161",
     "exception": false,
     "start_time": "2023-07-11T10:12:58.034840",
     "status": "completed"
    },
    "tags": []
   },
   "outputs": [],
   "source": [
    "from sklearn.model_selection import train_test_split\n",
    "train_X, test_X, train_y, test_y = train_test_split(X, y, test_size = 0.2, random_state=42)"
   ]
  },
  {
   "cell_type": "code",
   "execution_count": 13,
   "id": "f3236c60",
   "metadata": {
    "execution": {
     "iopub.execute_input": "2023-07-11T10:12:58.096818Z",
     "iopub.status.busy": "2023-07-11T10:12:58.096433Z",
     "iopub.status.idle": "2023-07-11T10:12:58.101824Z",
     "shell.execute_reply": "2023-07-11T10:12:58.100645Z"
    },
    "papermill": {
     "duration": 0.019383,
     "end_time": "2023-07-11T10:12:58.104122",
     "exception": false,
     "start_time": "2023-07-11T10:12:58.084739",
     "status": "completed"
    },
    "tags": []
   },
   "outputs": [],
   "source": [
    "# Number of trees in random forest\n",
    "#n_estimators = [int(x) for x in np.linspace(start = 10, stop = 10, num = 1)]\n",
    "# Number of features to consider at every split\n",
    "#max_features = ['auto', 'sqrt']\n",
    "# Maximum number of levels in tree\n",
    "#max_depth = [5,8]\n",
    "# Minimum number of samples required to split a node\n",
    "#min_samples_split = [2, 5]\n",
    "# Minimum number of samples required at each leaf node\n",
    "#min_samples_leaf = [1, 2]\n",
    "# Method of selecting samples for training each tree\n",
    "#bootstrap = [True, False]"
   ]
  },
  {
   "cell_type": "code",
   "execution_count": 14,
   "id": "0548fb04",
   "metadata": {
    "execution": {
     "iopub.execute_input": "2023-07-11T10:12:58.126747Z",
     "iopub.status.busy": "2023-07-11T10:12:58.126364Z",
     "iopub.status.idle": "2023-07-11T10:12:58.131782Z",
     "shell.execute_reply": "2023-07-11T10:12:58.130618Z"
    },
    "papermill": {
     "duration": 0.019646,
     "end_time": "2023-07-11T10:12:58.134292",
     "exception": false,
     "start_time": "2023-07-11T10:12:58.114646",
     "status": "completed"
    },
    "tags": []
   },
   "outputs": [],
   "source": [
    "# Create the param grid\n",
    "# param_grid = {#'n_estimators': n_estimators,\n",
    "               #'max_features' : max_features,\n",
    "               #'max_depth': max_depth,\n",
    "               #'min_samples_split': min_samples_split,\n",
    "               #'min_samples_leaf': min_samples_leaf,\n",
    "               #'bootstrap': bootstrap\n",
    "             #}\n",
    "# print(param_grid)"
   ]
  },
  {
   "cell_type": "code",
   "execution_count": 15,
   "id": "7dbdbebc",
   "metadata": {
    "execution": {
     "iopub.execute_input": "2023-07-11T10:12:58.157537Z",
     "iopub.status.busy": "2023-07-11T10:12:58.156632Z",
     "iopub.status.idle": "2023-07-11T10:12:58.161618Z",
     "shell.execute_reply": "2023-07-11T10:12:58.160546Z"
    },
    "papermill": {
     "duration": 0.018916,
     "end_time": "2023-07-11T10:12:58.163807",
     "exception": false,
     "start_time": "2023-07-11T10:12:58.144891",
     "status": "completed"
    },
    "tags": []
   },
   "outputs": [],
   "source": [
    "# from sklearn.ensemble import RandomForestClassifier\n",
    "# rf_Model = RandomForestClassifier()"
   ]
  },
  {
   "cell_type": "code",
   "execution_count": 16,
   "id": "d33da506",
   "metadata": {
    "execution": {
     "iopub.execute_input": "2023-07-11T10:12:58.186318Z",
     "iopub.status.busy": "2023-07-11T10:12:58.185569Z",
     "iopub.status.idle": "2023-07-11T10:12:58.189798Z",
     "shell.execute_reply": "2023-07-11T10:12:58.189023Z"
    },
    "papermill": {
     "duration": 0.017715,
     "end_time": "2023-07-11T10:12:58.191923",
     "exception": false,
     "start_time": "2023-07-11T10:12:58.174208",
     "status": "completed"
    },
    "tags": []
   },
   "outputs": [],
   "source": [
    "# from sklearn.model_selection import GridSearchCV\n",
    "# rf_Grid = GridSearchCV(estimator = rf_Model, param_grid = param_grid,scoring=my_scorer)"
   ]
  },
  {
   "cell_type": "code",
   "execution_count": 17,
   "id": "d8002ffb",
   "metadata": {
    "execution": {
     "iopub.execute_input": "2023-07-11T10:12:58.214429Z",
     "iopub.status.busy": "2023-07-11T10:12:58.214019Z",
     "iopub.status.idle": "2023-07-11T10:12:58.219013Z",
     "shell.execute_reply": "2023-07-11T10:12:58.217914Z"
    },
    "papermill": {
     "duration": 0.018985,
     "end_time": "2023-07-11T10:12:58.221397",
     "exception": false,
     "start_time": "2023-07-11T10:12:58.202412",
     "status": "completed"
    },
    "tags": []
   },
   "outputs": [],
   "source": [
    "# rf_Grid.fit(train_X, train_y)"
   ]
  },
  {
   "cell_type": "code",
   "execution_count": 18,
   "id": "62af0229",
   "metadata": {
    "execution": {
     "iopub.execute_input": "2023-07-11T10:12:58.244264Z",
     "iopub.status.busy": "2023-07-11T10:12:58.243819Z",
     "iopub.status.idle": "2023-07-11T10:12:58.248707Z",
     "shell.execute_reply": "2023-07-11T10:12:58.247613Z"
    },
    "papermill": {
     "duration": 0.019345,
     "end_time": "2023-07-11T10:12:58.251292",
     "exception": false,
     "start_time": "2023-07-11T10:12:58.231947",
     "status": "completed"
    },
    "tags": []
   },
   "outputs": [],
   "source": [
    "# rf_Grid.best_params_"
   ]
  },
  {
   "cell_type": "code",
   "execution_count": 19,
   "id": "baaac857",
   "metadata": {
    "execution": {
     "iopub.execute_input": "2023-07-11T10:12:58.274249Z",
     "iopub.status.busy": "2023-07-11T10:12:58.273004Z",
     "iopub.status.idle": "2023-07-11T10:13:02.827719Z",
     "shell.execute_reply": "2023-07-11T10:13:02.826795Z"
    },
    "papermill": {
     "duration": 4.568788,
     "end_time": "2023-07-11T10:13:02.830372",
     "exception": false,
     "start_time": "2023-07-11T10:12:58.261584",
     "status": "completed"
    },
    "tags": []
   },
   "outputs": [
    {
     "data": {
      "text/html": [
       "<style>#sk-container-id-1 {color: black;background-color: white;}#sk-container-id-1 pre{padding: 0;}#sk-container-id-1 div.sk-toggleable {background-color: white;}#sk-container-id-1 label.sk-toggleable__label {cursor: pointer;display: block;width: 100%;margin-bottom: 0;padding: 0.3em;box-sizing: border-box;text-align: center;}#sk-container-id-1 label.sk-toggleable__label-arrow:before {content: \"▸\";float: left;margin-right: 0.25em;color: #696969;}#sk-container-id-1 label.sk-toggleable__label-arrow:hover:before {color: black;}#sk-container-id-1 div.sk-estimator:hover label.sk-toggleable__label-arrow:before {color: black;}#sk-container-id-1 div.sk-toggleable__content {max-height: 0;max-width: 0;overflow: hidden;text-align: left;background-color: #f0f8ff;}#sk-container-id-1 div.sk-toggleable__content pre {margin: 0.2em;color: black;border-radius: 0.25em;background-color: #f0f8ff;}#sk-container-id-1 input.sk-toggleable__control:checked~div.sk-toggleable__content {max-height: 200px;max-width: 100%;overflow: auto;}#sk-container-id-1 input.sk-toggleable__control:checked~label.sk-toggleable__label-arrow:before {content: \"▾\";}#sk-container-id-1 div.sk-estimator input.sk-toggleable__control:checked~label.sk-toggleable__label {background-color: #d4ebff;}#sk-container-id-1 div.sk-label input.sk-toggleable__control:checked~label.sk-toggleable__label {background-color: #d4ebff;}#sk-container-id-1 input.sk-hidden--visually {border: 0;clip: rect(1px 1px 1px 1px);clip: rect(1px, 1px, 1px, 1px);height: 1px;margin: -1px;overflow: hidden;padding: 0;position: absolute;width: 1px;}#sk-container-id-1 div.sk-estimator {font-family: monospace;background-color: #f0f8ff;border: 1px dotted black;border-radius: 0.25em;box-sizing: border-box;margin-bottom: 0.5em;}#sk-container-id-1 div.sk-estimator:hover {background-color: #d4ebff;}#sk-container-id-1 div.sk-parallel-item::after {content: \"\";width: 100%;border-bottom: 1px solid gray;flex-grow: 1;}#sk-container-id-1 div.sk-label:hover label.sk-toggleable__label {background-color: #d4ebff;}#sk-container-id-1 div.sk-serial::before {content: \"\";position: absolute;border-left: 1px solid gray;box-sizing: border-box;top: 0;bottom: 0;left: 50%;z-index: 0;}#sk-container-id-1 div.sk-serial {display: flex;flex-direction: column;align-items: center;background-color: white;padding-right: 0.2em;padding-left: 0.2em;position: relative;}#sk-container-id-1 div.sk-item {position: relative;z-index: 1;}#sk-container-id-1 div.sk-parallel {display: flex;align-items: stretch;justify-content: center;background-color: white;position: relative;}#sk-container-id-1 div.sk-item::before, #sk-container-id-1 div.sk-parallel-item::before {content: \"\";position: absolute;border-left: 1px solid gray;box-sizing: border-box;top: 0;bottom: 0;left: 50%;z-index: -1;}#sk-container-id-1 div.sk-parallel-item {display: flex;flex-direction: column;z-index: 1;position: relative;background-color: white;}#sk-container-id-1 div.sk-parallel-item:first-child::after {align-self: flex-end;width: 50%;}#sk-container-id-1 div.sk-parallel-item:last-child::after {align-self: flex-start;width: 50%;}#sk-container-id-1 div.sk-parallel-item:only-child::after {width: 0;}#sk-container-id-1 div.sk-dashed-wrapped {border: 1px dashed gray;margin: 0 0.4em 0.5em 0.4em;box-sizing: border-box;padding-bottom: 0.4em;background-color: white;}#sk-container-id-1 div.sk-label label {font-family: monospace;font-weight: bold;display: inline-block;line-height: 1.2em;}#sk-container-id-1 div.sk-label-container {text-align: center;}#sk-container-id-1 div.sk-container {/* jupyter's `normalize.less` sets `[hidden] { display: none; }` but bootstrap.min.css set `[hidden] { display: none !important; }` so we also need the `!important` here to be able to override the default hidden behavior on the sphinx rendered scikit-learn.org. See: https://github.com/scikit-learn/scikit-learn/issues/21755 */display: inline-block !important;position: relative;}#sk-container-id-1 div.sk-text-repr-fallback {display: none;}</style><div id=\"sk-container-id-1\" class=\"sk-top-container\"><div class=\"sk-text-repr-fallback\"><pre>RandomForestClassifier(max_depth=5, n_estimators=80)</pre><b>In a Jupyter environment, please rerun this cell to show the HTML representation or trust the notebook. <br />On GitHub, the HTML representation is unable to render, please try loading this page with nbviewer.org.</b></div><div class=\"sk-container\" hidden><div class=\"sk-item\"><div class=\"sk-estimator sk-toggleable\"><input class=\"sk-toggleable__control sk-hidden--visually\" id=\"sk-estimator-id-1\" type=\"checkbox\" checked><label for=\"sk-estimator-id-1\" class=\"sk-toggleable__label sk-toggleable__label-arrow\">RandomForestClassifier</label><div class=\"sk-toggleable__content\"><pre>RandomForestClassifier(max_depth=5, n_estimators=80)</pre></div></div></div></div></div>"
      ],
      "text/plain": [
       "RandomForestClassifier(max_depth=5, n_estimators=80)"
      ]
     },
     "execution_count": 19,
     "metadata": {},
     "output_type": "execute_result"
    }
   ],
   "source": [
    "from sklearn.ensemble import RandomForestClassifier\n",
    "rf = RandomForestClassifier(n_estimators=80, max_depth=5, min_samples_split=2, min_samples_leaf=1)\n",
    "rf.fit(X, y)"
   ]
  },
  {
   "cell_type": "code",
   "execution_count": 20,
   "id": "dbb3927d",
   "metadata": {
    "execution": {
     "iopub.execute_input": "2023-07-11T10:13:02.854830Z",
     "iopub.status.busy": "2023-07-11T10:13:02.854407Z",
     "iopub.status.idle": "2023-07-11T10:13:02.860944Z",
     "shell.execute_reply": "2023-07-11T10:13:02.860006Z"
    },
    "papermill": {
     "duration": 0.021584,
     "end_time": "2023-07-11T10:13:02.863296",
     "exception": false,
     "start_time": "2023-07-11T10:13:02.841712",
     "status": "completed"
    },
    "tags": []
   },
   "outputs": [],
   "source": [
    "#rf1 = RandomForestClassifier(n_estimators=100, max_depth=5)\n",
    "#rf1.fit(X, y)"
   ]
  },
  {
   "cell_type": "code",
   "execution_count": 21,
   "id": "8b9dec96",
   "metadata": {
    "execution": {
     "iopub.execute_input": "2023-07-11T10:13:02.886000Z",
     "iopub.status.busy": "2023-07-11T10:13:02.885500Z",
     "iopub.status.idle": "2023-07-11T10:13:02.890722Z",
     "shell.execute_reply": "2023-07-11T10:13:02.889547Z"
    },
    "papermill": {
     "duration": 0.019565,
     "end_time": "2023-07-11T10:13:02.893323",
     "exception": false,
     "start_time": "2023-07-11T10:13:02.873758",
     "status": "completed"
    },
    "tags": []
   },
   "outputs": [],
   "source": [
    "#y_pred = rf.predict(test_X)"
   ]
  },
  {
   "cell_type": "code",
   "execution_count": 22,
   "id": "4d18b0cb",
   "metadata": {
    "execution": {
     "iopub.execute_input": "2023-07-11T10:13:02.917526Z",
     "iopub.status.busy": "2023-07-11T10:13:02.917108Z",
     "iopub.status.idle": "2023-07-11T10:13:02.946269Z",
     "shell.execute_reply": "2023-07-11T10:13:02.945419Z"
    },
    "papermill": {
     "duration": 0.043987,
     "end_time": "2023-07-11T10:13:02.948800",
     "exception": false,
     "start_time": "2023-07-11T10:13:02.904813",
     "status": "completed"
    },
    "tags": []
   },
   "outputs": [
    {
     "data": {
      "text/plain": [
       "array([[1283,   33]])"
      ]
     },
     "execution_count": 22,
     "metadata": {},
     "output_type": "execute_result"
    }
   ],
   "source": [
    "##creating local test-df\n",
    "test_df = pd.DataFrame()\n",
    "test_df['Category']=[0]\n",
    "test_df['Pool']=[1]\n",
    "test_df['Opening']=[500]\n",
    "test_df['Closing']=[700]\n",
    "\n",
    "rf.predict(test_df)"
   ]
  },
  {
   "cell_type": "code",
   "execution_count": 23,
   "id": "8ecbf310",
   "metadata": {
    "execution": {
     "iopub.execute_input": "2023-07-11T10:13:02.972880Z",
     "iopub.status.busy": "2023-07-11T10:13:02.972270Z",
     "iopub.status.idle": "2023-07-11T10:13:02.979467Z",
     "shell.execute_reply": "2023-07-11T10:13:02.978419Z"
    },
    "papermill": {
     "duration": 0.021634,
     "end_time": "2023-07-11T10:13:02.981519",
     "exception": false,
     "start_time": "2023-07-11T10:13:02.959885",
     "status": "completed"
    },
    "tags": []
   },
   "outputs": [
    {
     "data": {
      "text/plain": [
       "Sr.                                      2180\n",
       "Institute                  IIT-(BHU) Varanasi\n",
       "Program      Computer Science and Engineering\n",
       "Duration                              4 Years\n",
       "Degree                                 B.Tech\n",
       "Category                                  GEN\n",
       "Pool                           Gender-Neutral\n",
       "Opening                                   426\n",
       "Closing                                   897\n",
       "Name: 2183, dtype: object"
      ]
     },
     "execution_count": 23,
     "metadata": {},
     "output_type": "execute_result"
    }
   ],
   "source": [
    "df.iloc[2180]"
   ]
  },
  {
   "cell_type": "code",
   "execution_count": 24,
   "id": "f9ffd9d3",
   "metadata": {
    "execution": {
     "iopub.execute_input": "2023-07-11T10:13:03.006294Z",
     "iopub.status.busy": "2023-07-11T10:13:03.005583Z",
     "iopub.status.idle": "2023-07-11T10:13:03.041485Z",
     "shell.execute_reply": "2023-07-11T10:13:03.040256Z"
    },
    "papermill": {
     "duration": 0.05271,
     "end_time": "2023-07-11T10:13:03.044979",
     "exception": false,
     "start_time": "2023-07-11T10:13:02.992269",
     "status": "completed"
    },
    "tags": []
   },
   "outputs": [
    {
     "name": "stdout",
     "output_type": "stream",
     "text": [
      "Institute                                 IIT-Roorkee\n",
      "Program      Data Science and Artificial Intelligence\n",
      "Duration                                      4 Years\n",
      "Degree                                         B.Tech\n",
      "Category                                          GEN\n",
      "Pool                                   Gender-Neutral\n",
      "Opening                                           535\n",
      "Closing                                           822\n",
      "Name: 1761, dtype: object\n",
      "Institute                                        IIT-Kharagpur\n",
      "Program      Electronics and Electrical Communication Engin...\n",
      "Duration                                               4 Years\n",
      "Degree                                                  B.Tech\n",
      "Category                                                   GEN\n",
      "Pool                                            Gender-Neutral\n",
      "Opening                                                    434\n",
      "Closing                                                   1145\n",
      "Name: 860, dtype: object\n",
      "Institute                  IIT-(BHU) Varanasi\n",
      "Program      Computer Science and Engineering\n",
      "Duration                              4 Years\n",
      "Degree                                 B.Tech\n",
      "Category                                  GEN\n",
      "Pool                           Gender-Neutral\n",
      "Opening                                   426\n",
      "Closing                                   897\n",
      "Name: 2183, dtype: object\n",
      "Institute                                        IIT-Delhi\n",
      "Program      Electrical Engineering - Power and Automation\n",
      "Duration                                           4 Years\n",
      "Degree                                              B.Tech\n",
      "Category                                               GEN\n",
      "Pool                                        Gender-Neutral\n",
      "Opening                                                603\n",
      "Closing                                                797\n",
      "Name: 513, dtype: object\n",
      "Institute                        IIT-Guwahati\n",
      "Program      Computer Science and Engineering\n",
      "Duration                              4 Years\n",
      "Degree                                 B.Tech\n",
      "Category                                  GEN\n",
      "Pool                           Gender-Neutral\n",
      "Opening                                   415\n",
      "Closing                                   589\n",
      "Name: 2389, dtype: object\n",
      "Institute              IIT-Hyderabad\n",
      "Program      Artificial Intelligence\n",
      "Duration                     4 Years\n",
      "Degree                        B.Tech\n",
      "Category                         GEN\n",
      "Pool                  Gender-Neutral\n",
      "Opening                          619\n",
      "Closing                          840\n",
      "Name: 999, dtype: object\n",
      "Institute                         IIT-Roorkee\n",
      "Program      Computer Science and Engineering\n",
      "Duration                              4 Years\n",
      "Degree                                 B.Tech\n",
      "Category                                  GEN\n",
      "Pool                           Gender-Neutral\n",
      "Opening                                   271\n",
      "Closing                                   413\n",
      "Name: 1747, dtype: object\n",
      "Institute                                        IIT-Delhi\n",
      "Program      Electrical Engineering - Power and Automation\n",
      "Duration                                           4 Years\n",
      "Degree                                              B.Tech\n",
      "Category                                               GEN\n",
      "Pool                                        Gender-Neutral\n",
      "Opening                                                603\n",
      "Closing                                                797\n",
      "Name: 463, dtype: object\n",
      "Institute                              IIT-Kanpur\n",
      "Program      Mathematics and Scientific Computing\n",
      "Duration                                  4 Years\n",
      "Degree                                        BSc\n",
      "Category                                      GEN\n",
      "Pool                               Gender-Neutral\n",
      "Opening                                       610\n",
      "Closing                                      1143\n",
      "Name: 1344, dtype: object\n",
      "Institute                          IIT-Indore\n",
      "Program      Computer Science and Engineering\n",
      "Duration                              4 Years\n",
      "Degree                                 B.Tech\n",
      "Category                                  GEN\n",
      "Pool                           Gender-Neutral\n",
      "Opening                                   671\n",
      "Closing                                  1204\n",
      "Name: 583, dtype: object\n"
     ]
    }
   ],
   "source": [
    "gen_df = test_df\n",
    "predictions = rf.predict_proba(test_df)[0]\n",
    "res = np.argsort(predictions)[-20:]\n",
    "j=0\n",
    "i=0\n",
    "while((j<10) and (i<20)):\n",
    "    if(d1[df.iloc[res[0][-1-i]][5]]==test_df.iloc[0][0]):\n",
    "        if(d2[df.iloc[res[0][-1-i]][6]]==test_df.iloc[0][1]):\n",
    "            print(df.iloc[res[0][-1-i]][1:9])\n",
    "            j=j+1\n",
    "    i=i+1"
   ]
  },
  {
   "cell_type": "code",
   "execution_count": 25,
   "id": "1467bd83",
   "metadata": {
    "execution": {
     "iopub.execute_input": "2023-07-11T10:13:03.069200Z",
     "iopub.status.busy": "2023-07-11T10:13:03.068784Z",
     "iopub.status.idle": "2023-07-11T10:13:03.488190Z",
     "shell.execute_reply": "2023-07-11T10:13:03.486977Z"
    },
    "papermill": {
     "duration": 0.434588,
     "end_time": "2023-07-11T10:13:03.490913",
     "exception": false,
     "start_time": "2023-07-11T10:13:03.056325",
     "status": "completed"
    },
    "tags": []
   },
   "outputs": [],
   "source": [
    "import pickle\n",
    "with open('clg_prd.pkl', 'wb') as f:\n",
    "    pickle.dump(rf, f)"
   ]
  },
  {
   "cell_type": "code",
   "execution_count": 26,
   "id": "c29c97a7",
   "metadata": {
    "execution": {
     "iopub.execute_input": "2023-07-11T10:13:03.514882Z",
     "iopub.status.busy": "2023-07-11T10:13:03.514483Z",
     "iopub.status.idle": "2023-07-11T10:13:03.519297Z",
     "shell.execute_reply": "2023-07-11T10:13:03.518203Z"
    },
    "papermill": {
     "duration": 0.019606,
     "end_time": "2023-07-11T10:13:03.521724",
     "exception": false,
     "start_time": "2023-07-11T10:13:03.502118",
     "status": "completed"
    },
    "tags": []
   },
   "outputs": [],
   "source": [
    "#os.remove(\"/kaggle/working/clg_prd.pkl\")"
   ]
  }
 ],
 "metadata": {
  "kernelspec": {
   "display_name": "Python 3",
   "language": "python",
   "name": "python3"
  },
  "language_info": {
   "codemirror_mode": {
    "name": "ipython",
    "version": 3
   },
   "file_extension": ".py",
   "mimetype": "text/x-python",
   "name": "python",
   "nbconvert_exporter": "python",
   "pygments_lexer": "ipython3",
   "version": "3.10.10"
  },
  "papermill": {
   "default_parameters": {},
   "duration": 22.986938,
   "end_time": "2023-07-11T10:13:04.555942",
   "environment_variables": {},
   "exception": null,
   "input_path": "__notebook__.ipynb",
   "output_path": "__notebook__.ipynb",
   "parameters": {},
   "start_time": "2023-07-11T10:12:41.569004",
   "version": "2.4.0"
  }
 },
 "nbformat": 4,
 "nbformat_minor": 5
}
